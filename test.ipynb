{
 "cells": [
  {
   "cell_type": "code",
   "execution_count": 1,
   "metadata": {},
   "outputs": [],
   "source": [
    "import numpy as np \n",
    "import sys\n",
    "import time \n",
    "\n",
    "from dorna2.simulation import check_path, create_cube, create_sphere\n",
    "\n",
    "#import pybullet as p\n",
    "#import pybullet_data \n"
   ]
  },
  {
   "cell_type": "code",
   "execution_count": 2,
   "metadata": {},
   "outputs": [],
   "source": [
    "#Initiate pybullet if it's loaded\n",
    "def pybullet_test():\n",
    "    if 'p' in globals() and 'pybullet' in sys.modules and globals()['p'] is sys.modules['pybullet']:\n",
    "        return True\n",
    "    return False\n",
    "\n",
    "\n",
    "if pybullet_test():\n",
    "    # PyBullet setup \n",
    "    p.connect(p.GUI) \n",
    "    p.setAdditionalSearchPath(pybullet_data.getDataPath()) \n",
    "    p.setGravity(0,0,-9.81)"
   ]
  },
  {
   "cell_type": "code",
   "execution_count": 4,
   "metadata": {},
   "outputs": [],
   "source": [
    "#create objects\n",
    "scene = [] \n",
    "for i in range(4):\n",
    "    t = i * np.pi / 2 + np.pi/4\n",
    "    l = 0.48\n",
    "    tf = [l*np.cos(t),l*np.sin(t),0,0,0,0]\n",
    "    scene.append(create_cube(tf, [0.05,0.05,0.8]))\n",
    "\n",
    "tool = [create_sphere([0,0,0,0,0,0], [0.02,0.02,0.3])]"
   ]
  },
  {
   "cell_type": "code",
   "execution_count": 5,
   "metadata": {},
   "outputs": [
    {
     "name": "stdout",
     "output_type": "stream",
     "text": [
      "{'col': [], 'singular': False, 'path': [[-90, 0, 0, 0, 0, 0, 0], array([-88.91800476,  12.64604495, -25.29208991,   0.        ,\n",
      "         0.        ,   0.        ,   0.        ]), array([-87.78845399,  17.82239863, -35.64479725,   0.        ,\n",
      "         0.        ,   0.        ,   0.        ]), array([-86.60922961,  21.74535656, -43.49071311,   0.        ,\n",
      "         0.        ,   0.        ,   0.        ]), array([-85.37821476,  25.00566454, -50.01132907,   0.        ,\n",
      "         0.        ,   0.        ,   0.        ]), array([-84.09331939,  27.83122568, -55.66245137,   0.        ,\n",
      "         0.        ,   0.        ,   0.        ]), array([-82.75251095,  30.33794777, -60.67589554,   0.        ,\n",
      "         0.        ,   0.        ,   0.        ]), array([-81.35385102,  32.59374238, -65.18748475,   0.        ,\n",
      "         0.        ,   0.        ,   0.        ]), array([-79.89553794,  34.64196035, -69.2839207 ,   0.        ,\n",
      "         0.        ,   0.        ,   0.        ]), array([-78.37595587,  36.51186165, -73.02372329,   0.        ,\n",
      "         0.        ,   0.        ,   0.        ]), array([-76.79373004,  38.22394252, -76.44788504,   0.        ,\n",
      "         0.        ,   0.        ,   0.        ]), array([-75.14778789,  39.79291123, -79.58582246,   0.        ,\n",
      "         0.        ,   0.        ,   0.        ]), array([-73.4374251,  41.2294735, -82.458947 ,   0.       ,   0.       ,\n",
      "         0.       ,   0.       ]), array([-71.66237516,  42.54146744, -85.08293488,   0.        ,\n",
      "         0.        ,   0.        ,   0.        ]), array([-69.82288046,  43.73462126, -87.46924252,   0.        ,\n",
      "         0.        ,   0.        ,   0.        ]), array([-67.91976209,  44.81308143, -89.62616286,   0.        ,\n",
      "         0.        ,   0.        ,   0.        ]), array([-65.95448505,  45.77979561, -91.55959121,   0.        ,\n",
      "         0.        ,   0.        ,   0.        ]), array([-63.92921497,  46.6368003 , -93.27360061,   0.        ,\n",
      "         0.        ,   0.        ,   0.        ]), array([-61.84686197,  47.38544393, -94.77088786,   0.        ,\n",
      "         0.        ,   0.        ,   0.        ]), array([-59.71110725,  48.02656416, -96.05312831,   0.        ,\n",
      "         0.        ,   0.        ,   0.        ]), array([-57.52640829,  48.56063148, -97.12126296,   0.        ,\n",
      "         0.        ,   0.        ,   0.        ]), array([-55.29797933,  48.98786617, -97.97573233,   0.        ,\n",
      "         0.        ,   0.        ,   0.        ]), array([-53.0317446 ,  49.30833289, -98.61666578,   0.        ,\n",
      "         0.        ,   0.        ,   0.        ]), array([-50.73426394,  49.52201528, -99.04403057,   0.        ,\n",
      "         0.        ,   0.        ,   0.        ]), array([-48.41263186,  49.62887156, -99.25774313,   0.        ,\n",
      "         0.        ,   0.        ,   0.        ]), array([-46.07435321,  49.62887156, -99.25774313,   0.        ,\n",
      "         0.        ,   0.        ,   0.        ]), array([-43.72720065,  49.52201528, -99.04403057,   0.        ,\n",
      "         0.        ,   0.        ,   0.        ]), array([-41.37906054,  49.30833289, -98.61666578,   0.        ,\n",
      "         0.        ,   0.        ,   0.        ]), array([-39.03777462,  48.98786617, -97.97573233,   0.        ,\n",
      "         0.        ,   0.        ,   0.        ]), array([-36.71098567,  48.56063148, -97.12126296,   0.        ,\n",
      "         0.        ,   0.        ,   0.        ]), array([-34.40599424,  48.02656416, -96.05312831,   0.        ,\n",
      "         0.        ,   0.        ,   0.        ]), array([-32.12963308,  47.38544393, -94.77088786,   0.        ,\n",
      "         0.        ,   0.        ,   0.        ]), array([-29.88816375,  46.6368003 , -93.27360061,   0.        ,\n",
      "         0.        ,   0.        ,   0.        ]), array([-27.68719864,  45.77979561, -91.55959121,   0.        ,\n",
      "         0.        ,   0.        ,   0.        ]), array([-25.53164913,  44.81308143, -89.62616286,   0.        ,\n",
      "         0.        ,   0.        ,   0.        ]), array([-23.42569944,  43.73462126, -87.46924252,   0.        ,\n",
      "         0.        ,   0.        ,   0.        ]), array([-21.3728039 ,  42.54146744, -85.08293488,   0.        ,\n",
      "         0.        ,   0.        ,   0.        ]), array([-19.37570458,  41.2294735 , -82.458947  ,   0.        ,\n",
      "         0.        ,   0.        ,   0.        ]), array([-17.43646545,  39.79291123, -79.58582246,   0.        ,\n",
      "         0.        ,   0.        ,   0.        ]), array([-15.55651922,  38.22394252, -76.44788504,   0.        ,\n",
      "         0.        ,   0.        ,   0.        ]), array([-13.73672285,  36.51186165, -73.02372329,   0.        ,\n",
      "         0.        ,   0.        ,   0.        ]), array([-11.9774183 ,  34.64196035, -69.2839207 ,   0.        ,\n",
      "         0.        ,   0.        ,   0.        ]), array([-10.27849544,  32.59374238, -65.18748475,   0.        ,\n",
      "         0.        ,   0.        ,   0.        ]), array([ -8.63945457,  30.33794777, -60.67589554,   0.        ,\n",
      "         0.        ,   0.        ,   0.        ]), array([ -7.05946677,  27.83122568, -55.66245137,   0.        ,\n",
      "         0.        ,   0.        ,   0.        ]), array([ -5.53743048,  25.00566454, -50.01132907,   0.        ,\n",
      "         0.        ,   0.        ,   0.        ]), array([ -4.07202361,  21.74535656, -43.49071311,   0.        ,\n",
      "         0.        ,   0.        ,   0.        ]), array([ -2.66175049,  17.82239863, -35.64479725,   0.        ,\n",
      "         0.        ,   0.        ,   0.        ]), array([ -1.3049836 ,  12.64604495, -25.29208991,   0.        ,\n",
      "         0.        ,   0.        ,   0.        ]), array([0., 0., 0., 0., 0., 0., 0.])], 'debug': {'sim': <dorna2.simulation.Simulation object at 0x00000192137F4670>, 'path': <dorna2.pathGen.pathGen object at 0x00000192135BE730>, 'visuals': [<dorna2.node.UnifiedObject object at 0x000001927B364FD0>, <dorna2.node.UnifiedObject object at 0x00000192136A83A0>, <dorna2.node.UnifiedObject object at 0x00000192136CD580>, <dorna2.node.UnifiedObject object at 0x00000192137F43D0>, <dorna2.node.UnifiedObject object at 0x00000192135BE670>, <dorna2.node.UnifiedObject object at 0x00000192135BE7F0>, <dorna2.node.UnifiedObject object at 0x00000192135BE880>, <dorna2.node.UnifiedObject object at 0x00000192135BEA00>, <dorna2.node.UnifiedObject object at 0x00000192135BEA90>, <dorna2.node.UnifiedObject object at 0x00000192135BEC10>, <dorna2.node.UnifiedObject object at 0x00000192135BECA0>, <dorna2.node.UnifiedObject object at 0x00000192135BEE20>, <dorna2.node.UnifiedObject object at 0x00000192135BEEB0>, <dorna2.node.UnifiedObject object at 0x00000192135C9070>, <dorna2.node.UnifiedObject object at 0x00000192135C9100>, <dorna2.node.UnifiedObject object at 0x00000192135C9190>, <dorna2.node.UnifiedObject object at 0x00000192135C9310>, <dorna2.node.UnifiedObject object at 0x00000192135C93A0>, <dorna2.node.UnifiedObject object at 0x00000192135BE580>, <dorna2.node.UnifiedObject object at 0x00000192136CDA60>]}, 'prf_time': 33.805799999999664}\n"
     ]
    }
   ],
   "source": [
    "#main call\n",
    "res = check_path(motion=\"lmove\", start_joint=[-90,0,0,0,0,0,0], end_joint=[0,0,0,0,0,0,0], scene=scene, load=tool, tool=[0,0,0,0,0,0], steps=50, early_exit=True)\n",
    "print(res)"
   ]
  },
  {
   "cell_type": "code",
   "execution_count": null,
   "metadata": {},
   "outputs": [],
   "source": [
    "#debug draw if pybullet is active\n",
    "#if pybullet_test():\n",
    "#    res[\"debug\"][\"sim\"].preview_animation(res[\"debug\"][\"path\"], res[\"debug\"][\"visuals\"])"
   ]
  }
 ],
 "metadata": {
  "kernelspec": {
   "display_name": "Python 3",
   "language": "python",
   "name": "python3"
  },
  "language_info": {
   "codemirror_mode": {
    "name": "ipython",
    "version": 3
   },
   "file_extension": ".py",
   "mimetype": "text/x-python",
   "name": "python",
   "nbconvert_exporter": "python",
   "pygments_lexer": "ipython3",
   "version": "3.9.0"
  }
 },
 "nbformat": 4,
 "nbformat_minor": 2
}
