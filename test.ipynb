{
 "cells": [
  {
   "cell_type": "code",
   "execution_count": 1,
   "metadata": {},
   "outputs": [],
   "source": [
    "import numpy as np \n",
    "import sys\n",
    "import time \n",
    "\n",
    "from dorna2.simulation import check_collision, create_cube, create_sphere\n",
    "from dorna2.plan import correct_pose_kinematic\n",
    "\n",
    "#import pybullet as p\n",
    "#import pybullet_data \n"
   ]
  },
  {
   "cell_type": "code",
   "execution_count": 3,
   "metadata": {},
   "outputs": [],
   "source": [
    "#Initiate pybullet if it's loaded\n",
    "def pybullet_test():\n",
    "    if 'p' in globals() and 'pybullet' in sys.modules and globals()['p'] is sys.modules['pybullet']:\n",
    "        return True\n",
    "    return False\n",
    "\n",
    "\n",
    "if pybullet_test():\n",
    "    # PyBullet setup \n",
    "    p.connect(p.GUI) \n",
    "    p.setAdditionalSearchPath(pybullet_data.getDataPath()) \n",
    "    p.setGravity(0,0,-9.81)"
   ]
  },
  {
   "cell_type": "code",
   "execution_count": 2,
   "metadata": {},
   "outputs": [],
   "source": [
    "#create objects\n",
    "scene = [] \n",
    "for i in range(4):\n",
    "    t = i * np.pi / 2 + np.pi/4\n",
    "    l = 0.48\n",
    "    tf = [l*np.cos(t),l*np.sin(t),0,0,0,0]\n",
    "    scene.append(create_cube(tf, [0.05,0.05,0.8]))\n",
    "\n",
    "tool = [create_sphere([0,0,0,0,0,0], [0.02,0.02,0.3])]"
   ]
  },
  {
   "cell_type": "code",
   "execution_count": 4,
   "metadata": {},
   "outputs": [
    {
     "name": "stdout",
     "output_type": "stream",
     "text": [
      "{'col': [{'links': ['j5_link', 'scene']}]}\n"
     ]
    }
   ],
   "source": [
    "#main call\n",
    "res = check_collision(joint=[-45,0,0,0,0,0,0], scene=scene, load=tool, tool=[0,0,0,0,0,0])#check_path(motion=\"lmove\", start_joint=[-90,0,0,0,0,0,0], end_joint=[0,0,0,0,0,0,0], scene=scene, load=tool, tool=[0,0,0,0,0,0], steps=50, early_exit=True)\n",
    "print(res)"
   ]
  },
  {
   "cell_type": "code",
   "execution_count": null,
   "metadata": {},
   "outputs": [],
   "source": [
    "#debug draw if pybullet is active\n",
    "#if pybullet_test():\n",
    "#    res[\"debug\"][\"sim\"].preview_animation(res[\"debug\"][\"path\"], res[\"debug\"][\"visuals\"])"
   ]
  },
  {
   "cell_type": "code",
   "execution_count": 3,
   "metadata": {},
   "outputs": [
    {
     "name": "stdout",
     "output_type": "stream",
     "text": [
      "7.702958483245185e-05\n",
      "0.000381259322413441\n",
      "0.0026483208739121033\n",
      "0.023234541667086123\n",
      "0.1480533925784372\n",
      "0.9307799800282883\n",
      "1.610049897323713\n",
      "2.1703081167766682\n",
      "2.5748143523900464\n",
      "2.8376395424507965\n",
      "2.988534540923282\n",
      "3.05884129021717\n",
      "3.0739591023723527\n",
      "3.054328187300366\n",
      "3.012672751464462\n",
      "2.9585444021298963\n",
      "2.898655504133297\n",
      "2.8359027493585174\n",
      "2.7734915439772903\n",
      "2.7129674513254627\n",
      "2.655144838311085\n",
      "2.6010201204262002\n",
      "2.55080421355259\n",
      "2.5047884270187044\n",
      "2.4633676420153687\n",
      "2.4266128593483547\n",
      "2.3946103480921423\n",
      "2.367899289420679\n",
      "2.346209269333272\n",
      "2.3300981909056224\n",
      "2.319900712993748\n",
      "2.3159853732899065\n",
      "2.3183070239904007\n",
      "2.327416188748125\n",
      "2.3436805481908247\n",
      "2.367259807459411\n",
      "2.3984001394100614\n",
      "2.4366071197590773\n",
      "2.4536866740879106\n",
      "4.036310369921399\n",
      "3.9396738194246264\n",
      "3.844587673706869\n",
      "3.751395364138671\n",
      "3.6610645636117294\n",
      "3.5732400489987772\n",
      "3.488917008782769\n",
      "3.4079895943162777\n",
      "3.330844251031978\n",
      "3.257312112124109\n",
      "3.1874296826452384\n",
      "3.1214666955054846\n",
      "3.0591027483529674\n",
      "3.000616986345512\n",
      "2.9458971351863528\n",
      "2.8952042117673713\n",
      "2.84815468384718\n",
      "2.804567277108971\n",
      "2.764919825990128\n",
      "2.729176843785672\n",
      "2.697075292086728\n",
      "2.669014154564302\n",
      "2.6446571129342513\n",
      "2.624522759710247\n",
      "2.608425060956256\n",
      "2.5963358171017084\n",
      "2.589401962037143\n",
      "2.5928570204292294\n",
      "2.6058682892235416\n",
      "2.6295353394266714\n",
      "6.371267839655067\n",
      "6.509340872239565\n",
      "6.644185202188469\n",
      "6.775930316961924\n",
      "6.904081640282982\n",
      "7.028657849560429\n",
      "7.149476332708286\n",
      "7.266387067908869\n",
      "7.3791978176589526\n",
      "7.487615201285932\n",
      "7.591582666650731\n",
      "7.69094562286552\n",
      "8.046505975777654\n",
      "8.130894117552785\n",
      "8.208875733539452\n",
      "8.280151551374495\n",
      "8.34447131307364\n",
      "8.401728690604891\n",
      "8.451021571004182\n",
      "8.492702810794423\n",
      "8.52571844567528\n",
      "8.549924097589177\n",
      "8.564758184163608\n",
      "8.569970696815258\n",
      "10.753052321969655\n",
      "8.823746551578825\n",
      "10.460464513484945\n",
      "10.317679610092714\n",
      "10.172100538271007\n",
      "10.024829918956293\n",
      "9.876720868540104\n",
      "[-40.79556999   2.02712143  -1.83497369  -4.80059743   2.72972098\n",
      "   0.           0.        ]\n"
     ]
    }
   ],
   "source": [
    "#move robot out\n",
    "\n",
    "res, _ = correct_pose_kinematic(\n",
    "    joint = [-45,0,0,0,0,0,0],\n",
    "    scene=scene, load=tool, max_iters = 100)\n",
    "\n",
    "print(res)\n"
   ]
  },
  {
   "cell_type": "code",
   "execution_count": 13,
   "metadata": {},
   "outputs": [
    {
     "name": "stdout",
     "output_type": "stream",
     "text": [
      "{'col': [{'links': ['j4_link', 'scene']}]}\n",
      "{'col': [{'links': ['j4_link', 'scene']}]}\n"
     ]
    }
   ],
   "source": [
    "print(check_collision(joint=[-45,0,0,0,0,0,0], scene=scene, load=tool, tool=[0,0,0,0,0,0]))\n",
    "print(check_collision(joint=res, scene=scene, load=tool, tool=[0,0,0,0,0,0]))\n"
   ]
  }
 ],
 "metadata": {
  "kernelspec": {
   "display_name": "Python 3",
   "language": "python",
   "name": "python3"
  },
  "language_info": {
   "codemirror_mode": {
    "name": "ipython",
    "version": 3
   },
   "file_extension": ".py",
   "mimetype": "text/x-python",
   "name": "python",
   "nbconvert_exporter": "python",
   "pygments_lexer": "ipython3",
   "version": "3.9.0"
  }
 },
 "nbformat": 4,
 "nbformat_minor": 2
}
