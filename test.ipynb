{
 "cells": [
  {
   "cell_type": "code",
   "execution_count": null,
   "metadata": {},
   "outputs": [],
   "source": [
    "import numpy as np \n",
    "import sys\n",
    "import time \n",
    "\n",
    "from dorna2.simulation import check_collision, create_cube, create_sphere, bisect_path\n",
    "from dorna2.plan import correct_pose_kinematic\n",
    "from dorna2.path_gen import path_gen\n",
    "\n",
    "#import pybullet as p\n",
    "#import pybullet_data \n"
   ]
  },
  {
   "cell_type": "code",
   "execution_count": null,
   "metadata": {},
   "outputs": [],
   "source": [
    "#Initiate pybullet if it's loaded\n",
    "def pybullet_test():\n",
    "    if 'p' in globals() and 'pybullet' in sys.modules and globals()['p'] is sys.modules['pybullet']:\n",
    "        return True\n",
    "    return False\n",
    "\n",
    "\n",
    "if pybullet_test():\n",
    "    # PyBullet setup \n",
    "    p.connect(p.GUI) \n",
    "    p.setAdditionalSearchPath(pybullet_data.getDataPath()) \n",
    "    p.setGravity(0,0,-9.81)"
   ]
  },
  {
   "cell_type": "code",
   "execution_count": null,
   "metadata": {},
   "outputs": [],
   "source": [
    "#create objects\n",
    "scene = [] \n",
    "for i in range(4):\n",
    "    t = i * np.pi / 2 + np.pi/4\n",
    "    l = 0.48\n",
    "    tf = [l*np.cos(t),l*np.sin(t),0,0,0,0]\n",
    "    scene.append(create_cube(tf, [0.05,0.05,0.8]))\n",
    "\n",
    "tool = [create_sphere([0,0,0,0,0,0], [0.02,0.02,0.3])]"
   ]
  },
  {
   "cell_type": "code",
   "execution_count": null,
   "metadata": {},
   "outputs": [],
   "source": [
    "print(check_collision(joint=[-45,0,0,0,0,0,0], scene=scene, load=tool, tool=[0,0,0,0,0,0]))\n",
    "\n"
   ]
  },
  {
   "cell_type": "code",
   "execution_count": null,
   "metadata": {},
   "outputs": [],
   "source": [
    "#main call\n",
    "#res = check_collision(joint=[-45,0,0,0,0,0,0], scene=scene, load=tool, tool=[0,0,0,0,0,0])#check_path(motion=\"lmove\", start_joint=[-90,0,0,0,0,0,0], end_joint=[0,0,0,0,0,0,0], scene=scene, load=tool, tool=[0,0,0,0,0,0], steps=50, early_exit=True)\n",
    "res = bisect_path(\n",
    "    path_gen(\"jmove\",[0,0,0,0,0,0],[-90,0,0,0,0,0],20,None,[0,0,0,0,0,0]).path,                                   # has .get_point(t) in [0,1]\n",
    "    tool=[0,0,0,0,0,0],\n",
    "    load=tool,\n",
    "    scene=scene)\n",
    "print(res)"
   ]
  },
  {
   "cell_type": "code",
   "execution_count": null,
   "metadata": {},
   "outputs": [],
   "source": [
    "#move robot out\n",
    "\n",
    "res, debug = correct_pose_kinematic(\n",
    "    joint = [-45,0,0,0,0,0,0],\n",
    "    scene=scene, load=tool, max_iters = 100)\n",
    "\n",
    "print(res)\n"
   ]
  },
  {
   "cell_type": "code",
   "execution_count": null,
   "metadata": {},
   "outputs": [],
   "source": [
    "#debug draw if pybullet is active\n",
    "if pybullet_test():\n",
    "    debug[\"sim\"].preview_animation(debug[\"debug_path\"], debug[\"visuals\"])"
   ]
  }
 ],
 "metadata": {
  "kernelspec": {
   "display_name": "Python 3",
   "language": "python",
   "name": "python3"
  },
  "language_info": {
   "codemirror_mode": {
    "name": "ipython",
    "version": 3
   },
   "file_extension": ".py",
   "mimetype": "text/x-python",
   "name": "python",
   "nbconvert_exporter": "python",
   "pygments_lexer": "ipython3",
   "version": "3.9.0"
  }
 },
 "nbformat": 4,
 "nbformat_minor": 2
}
